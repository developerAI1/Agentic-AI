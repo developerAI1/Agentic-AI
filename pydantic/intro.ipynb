{
 "cells": [
  {
   "cell_type": "markdown",
   "id": "6923b8b7",
   "metadata": {},
   "source": [
    "#### Pydantic Model : Creating and Using Models:\n",
    "\n",
    "pydantic models are the foundation of data validation in python . They use python  type annotations to define the structure and validate data at runtime."
   ]
  },
  {
   "cell_type": "code",
   "execution_count": 3,
   "id": "4191c3e1",
   "metadata": {},
   "outputs": [
    {
     "name": "stdout",
     "output_type": "stream",
     "text": [
      "Collecting pydantic\n",
      "  Downloading pydantic-2.11.5-py3-none-any.whl.metadata (67 kB)\n",
      "Collecting annotated-types>=0.6.0 (from pydantic)\n",
      "  Using cached annotated_types-0.7.0-py3-none-any.whl.metadata (15 kB)\n",
      "Collecting pydantic-core==2.33.2 (from pydantic)\n",
      "  Downloading pydantic_core-2.33.2-cp312-cp312-manylinux_2_17_x86_64.manylinux2014_x86_64.whl.metadata (6.8 kB)\n",
      "Requirement already satisfied: typing-extensions>=4.12.2 in /home/mandeep/anaconda3/envs/agentic_env/lib/python3.12/site-packages (from pydantic) (4.14.0)\n",
      "Collecting typing-inspection>=0.4.0 (from pydantic)\n",
      "  Downloading typing_inspection-0.4.1-py3-none-any.whl.metadata (2.6 kB)\n",
      "Downloading pydantic-2.11.5-py3-none-any.whl (444 kB)\n",
      "Downloading pydantic_core-2.33.2-cp312-cp312-manylinux_2_17_x86_64.manylinux2014_x86_64.whl (2.0 MB)\n",
      "\u001b[2K   \u001b[38;2;114;156;31m━━━━━━━━━━━━━━━━━━━━━━━━━━━━━━━━━━━━━━━━\u001b[0m \u001b[32m2.0/2.0 MB\u001b[0m \u001b[31m10.7 MB/s\u001b[0m eta \u001b[36m0:00:00\u001b[0m\n",
      "\u001b[?25hUsing cached annotated_types-0.7.0-py3-none-any.whl (13 kB)\n",
      "Downloading typing_inspection-0.4.1-py3-none-any.whl (14 kB)\n",
      "Installing collected packages: typing-inspection, pydantic-core, annotated-types, pydantic\n",
      "\u001b[2K   \u001b[38;2;114;156;31m━━━━━━━━━━━━━━━━━━━━━━━━━━━━━━━━━━━━━━━━\u001b[0m \u001b[32m4/4\u001b[0m [pydantic]━━\u001b[0m \u001b[32m3/4\u001b[0m [pydantic]\n",
      "\u001b[1A\u001b[2KSuccessfully installed annotated-types-0.7.0 pydantic-2.11.5 pydantic-core-2.33.2 typing-inspection-0.4.1\n"
     ]
    }
   ],
   "source": [
    "!pip3 install pydantic"
   ]
  },
  {
   "cell_type": "code",
   "execution_count": 33,
   "id": "04472528",
   "metadata": {},
   "outputs": [],
   "source": [
    "from pydantic import BaseModel , StrictStr , StrictInt\n",
    "from typing import Optional\n",
    "\n",
    "# define pydantic class extract from BaseModel\n",
    "class DataSample(BaseModel):\n",
    "    name:StrictStr          # str\n",
    "    age:StrictInt           # int\n",
    "    city:StrictStr          # str"
   ]
  },
  {
   "cell_type": "code",
   "execution_count": 34,
   "id": "5189898c",
   "metadata": {},
   "outputs": [
    {
     "name": "stdout",
     "output_type": "stream",
     "text": [
      "name='mandeep' age=28 city='Mohali'\n"
     ]
    }
   ],
   "source": [
    "#Create a object and pass variable values\n",
    "\n",
    "data_object = DataSample(name= \"mandeep\" , age=28, city = \"Mohali\")\n",
    "print(data_object)"
   ]
  },
  {
   "cell_type": "code",
   "execution_count": 35,
   "id": "fc8b86dc",
   "metadata": {},
   "outputs": [
    {
     "name": "stdout",
     "output_type": "stream",
     "text": [
      "name='mandeep' age=28 city='Mohali'\n"
     ]
    }
   ],
   "source": [
    "data_object1 = DataSample(name =\"mandeep\", age=28, city=\"Mohali\")\n",
    "print(data_object1)"
   ]
  },
  {
   "cell_type": "code",
   "execution_count": 38,
   "id": "236c3ebf",
   "metadata": {},
   "outputs": [],
   "source": [
    "class Person(BaseModel):\n",
    "    name: str\n",
    "    age:int\n",
    "    city : str\n",
    "    salary: Optional[float]= None               # By default is it None\n",
    "    is_active:Optional[bool]=True               # By default it is True"
   ]
  },
  {
   "cell_type": "code",
   "execution_count": 39,
   "id": "c68c6f36",
   "metadata": {},
   "outputs": [
    {
     "name": "stdout",
     "output_type": "stream",
     "text": [
      "name='satpal' age=21 city='Hamirpur' salary=None is_active=True\n"
     ]
    }
   ],
   "source": [
    "# Person Object\n",
    "\n",
    "person = Person(name=\"satpal\" , age=21 , city=\"Hamirpur\")\n",
    "print(person)"
   ]
  },
  {
   "cell_type": "markdown",
   "id": "ae3cc34d",
   "metadata": {},
   "source": [
    "#### Pydantic Fields : Customization and Constraints\n",
    "\n",
    "The Field function is Pydantic enhances model fields beyond basic type hints by allowing you to specify validation rules , default values , aliases and more. \n"
   ]
  },
  {
   "cell_type": "code",
   "execution_count": 40,
   "id": "7d305c04",
   "metadata": {},
   "outputs": [],
   "source": [
    "from pydantic import BaseModel , Field \n",
    "\n",
    "\n",
    "class Item(BaseModel):\n",
    "    name : str=Field(min_length=2 , max_length=50)\n",
    "    price:float=Field(gt = 0 , le=1000)                 # greater than 0 and less than or equal to 1000\n",
    "    quantity: int=Field(ge=0)"
   ]
  },
  {
   "cell_type": "code",
   "execution_count": 43,
   "id": "c0fe1ecd",
   "metadata": {},
   "outputs": [
    {
     "name": "stdout",
     "output_type": "stream",
     "text": [
      "name='Book' price=29.0 quantity=10\n"
     ]
    }
   ],
   "source": [
    "# create object of Item\n",
    "\n",
    "item = Item(name=\"Book\", price=29 , quantity=10)\n",
    "print(item)"
   ]
  },
  {
   "cell_type": "code",
   "execution_count": null,
   "id": "869e31ec",
   "metadata": {},
   "outputs": [],
   "source": []
  }
 ],
 "metadata": {
  "kernelspec": {
   "display_name": "agentic_env",
   "language": "python",
   "name": "python3"
  },
  "language_info": {
   "codemirror_mode": {
    "name": "ipython",
    "version": 3
   },
   "file_extension": ".py",
   "mimetype": "text/x-python",
   "name": "python",
   "nbconvert_exporter": "python",
   "pygments_lexer": "ipython3",
   "version": "3.12.0"
  }
 },
 "nbformat": 4,
 "nbformat_minor": 5
}
