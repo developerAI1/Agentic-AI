{
 "cells": [
  {
   "cell_type": "markdown",
   "id": "ffae26fe",
   "metadata": {},
   "source": [
    "#### Getting Started with Langchain With Open AI \n",
    "\n",
    "1. Get Setup with Langchain , Langsmith and Langserve.\n",
    "2. use the most basic and common components of langchain : prompt templates , model design and output parser.\n",
    "3. Build a simple application with Langchain \n",
    "4. Trace your application with Langsmith.\n",
    "5. serve your applicatoin with LangServe."
   ]
  },
  {
   "cell_type": "code",
   "execution_count": null,
   "id": "e3db2f99",
   "metadata": {
    "vscode": {
     "languageId": "plaintext"
    }
   },
   "outputs": [],
   "source": []
  }
 ],
 "metadata": {
  "language_info": {
   "name": "python"
  }
 },
 "nbformat": 4,
 "nbformat_minor": 5
}
