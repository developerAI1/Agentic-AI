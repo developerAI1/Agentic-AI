{
 "cells": [
  {
   "cell_type": "markdown",
   "id": "b770f32d",
   "metadata": {},
   "source": [
    "# Lambda Function\n",
    "\n",
    "    Lambda function are small anonymous function defined using keyword 'lambda' , they can have any number of argument but only one expression .\n",
    "\n",
    "    They are commonly used for short operations or as argument to higher-order functions."
   ]
  },
  {
   "cell_type": "markdown",
   "id": "3d863938",
   "metadata": {},
   "source": [
    "# Syntax\n",
    "\n",
    "    lambda argument: expression "
   ]
  },
  {
   "cell_type": "markdown",
   "id": "c07f164a",
   "metadata": {},
   "source": [
    "# Example"
   ]
  },
  {
   "cell_type": "code",
   "execution_count": 2,
   "id": "9264ef24",
   "metadata": {},
   "outputs": [],
   "source": [
    "def addition(a , b):\n",
    "    return a +b "
   ]
  },
  {
   "cell_type": "code",
   "execution_count": 3,
   "id": "f439d7e0",
   "metadata": {},
   "outputs": [
    {
     "data": {
      "text/plain": [
       "9"
      ]
     },
     "execution_count": 3,
     "metadata": {},
     "output_type": "execute_result"
    }
   ],
   "source": [
    "addition(5, 4)"
   ]
  },
  {
   "cell_type": "code",
   "execution_count": null,
   "id": "6b9de9b5",
   "metadata": {},
   "outputs": [
    {
     "name": "stdout",
     "output_type": "stream",
     "text": [
      "type  <class 'function'>\n"
     ]
    }
   ],
   "source": [
    "addition = lambda a , b : a+b\n",
    "print(\"type \", type(addition))\n",
    "print()\n",
    "print(\"result is \", addition)"
   ]
  },
  {
   "cell_type": "code",
   "execution_count": null,
   "id": "79632b9a",
   "metadata": {},
   "outputs": [],
   "source": []
  }
 ],
 "metadata": {
  "kernelspec": {
   "display_name": "agentic_env",
   "language": "python",
   "name": "python3"
  },
  "language_info": {
   "codemirror_mode": {
    "name": "ipython",
    "version": 3
   },
   "file_extension": ".py",
   "mimetype": "text/x-python",
   "name": "python",
   "nbconvert_exporter": "python",
   "pygments_lexer": "ipython3",
   "version": "3.12.0"
  }
 },
 "nbformat": 4,
 "nbformat_minor": 5
}
