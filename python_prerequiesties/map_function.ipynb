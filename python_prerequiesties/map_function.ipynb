{
 "cells": [
  {
   "cell_type": "markdown",
   "id": "3e1050cb",
   "metadata": {},
   "source": [
    "# The Map Function in python\n",
    "\n",
    "    The map function applies a given function to all items in an input list (or any other iterable) and returns a map object (an iterator ).\n",
    "\n",
    "    This is particularly useful for transforming data in list comprehensivley."
   ]
  },
  {
   "cell_type": "markdown",
   "id": "73b0c3c3",
   "metadata": {},
   "source": [
    "# Syntax\n",
    "\n",
    "    map(function , iterable object)\n",
    "\n",
    "    Iterable object like (list , tuple , dictionary etc ...)"
   ]
  },
  {
   "cell_type": "code",
   "execution_count": 4,
   "id": "cec65d2e",
   "metadata": {},
   "outputs": [
    {
     "data": {
      "text/plain": [
       "[1, 4, 9, 16, 25]"
      ]
     },
     "execution_count": 4,
     "metadata": {},
     "output_type": "execute_result"
    }
   ],
   "source": [
    "# EXAMPLE \n",
    "\n",
    "num_list = [1 ,2 ,3, 4 ,5]\n",
    "\n",
    "def square(x):\n",
    "    return x*x\n",
    "\n",
    "\n",
    "result = list(map(square , num_list))\n",
    "result"
   ]
  },
  {
   "cell_type": "code",
   "execution_count": 6,
   "id": "d759c3c9",
   "metadata": {},
   "outputs": [
    {
     "data": {
      "text/plain": [
       "[1, 4, 9, 16, 25]"
      ]
     },
     "execution_count": 6,
     "metadata": {},
     "output_type": "execute_result"
    }
   ],
   "source": [
    "# Lambda function with map function\n",
    "\n",
    "square1 = lambda  x: x*x\n",
    "\n",
    "lambda_map_res = list(map(square1 , num_list))\n",
    "\n",
    "lambda_map_res"
   ]
  },
  {
   "cell_type": "code",
   "execution_count": 8,
   "id": "cae0ec80",
   "metadata": {},
   "outputs": [
    {
     "data": {
      "text/plain": [
       "[5, 7, 9]"
      ]
     },
     "execution_count": 8,
     "metadata": {},
     "output_type": "execute_result"
    }
   ],
   "source": [
    "# Iterate multiple list \n",
    "num1_list= [1,2,3]\n",
    "num2_list =[4,5,6]\n",
    "\n",
    "added_multiple_numbers = lambda x, y : x+y\n",
    "\n",
    "added_numbers = list(map(added_multiple_numbers , num1_list , num2_list))\n",
    "\n",
    "added_numbers"
   ]
  },
  {
   "cell_type": "code",
   "execution_count": null,
   "id": "5e5016fa",
   "metadata": {},
   "outputs": [],
   "source": []
  }
 ],
 "metadata": {
  "kernelspec": {
   "display_name": "agentic_env",
   "language": "python",
   "name": "python3"
  },
  "language_info": {
   "codemirror_mode": {
    "name": "ipython",
    "version": 3
   },
   "file_extension": ".py",
   "mimetype": "text/x-python",
   "name": "python",
   "nbconvert_exporter": "python",
   "pygments_lexer": "ipython3",
   "version": "3.12.0"
  }
 },
 "nbformat": 4,
 "nbformat_minor": 5
}
