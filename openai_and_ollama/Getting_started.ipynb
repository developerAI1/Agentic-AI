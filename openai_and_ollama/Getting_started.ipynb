{
 "cells": [
  {
   "cell_type": "code",
   "execution_count": 27,
   "id": "99f3c5a6",
   "metadata": {},
   "outputs": [
    {
     "data": {
      "text/plain": [
       "True"
      ]
     },
     "execution_count": 27,
     "metadata": {},
     "output_type": "execute_result"
    }
   ],
   "source": [
    "import os\n",
    "from dotenv import load_dotenv\n",
    "load_dotenv()"
   ]
  },
  {
   "cell_type": "code",
   "execution_count": 28,
   "id": "6d2fb80c",
   "metadata": {},
   "outputs": [],
   "source": [
    "os.environ[\"OPENAI_API_KEY\"] = os.getenv(\"OPENAI_API_KEY\")              # openai module\n",
    "os.environ['LANCHAIN_API_KEY']= os.getenv(\"LANCHAIN_API_KEY\")           # Langsmith tracking\n",
    "os.environ['LANCHAIN_TRACING_V2']= \"true\"\n",
    "os.environ['LANCHAIN_PROJECT']= os.getenv(\"LANCHAIN_PROJECT\")"
   ]
  },
  {
   "cell_type": "code",
   "execution_count": 30,
   "id": "b51ad1d2",
   "metadata": {},
   "outputs": [
    {
     "data": {
      "text/plain": [
       "ChatOpenAI(client=<openai.resources.chat.completions.completions.Completions object at 0x7ff26c5654f0>, async_client=<openai.resources.chat.completions.completions.AsyncCompletions object at 0x7ff26c4eabd0>, root_client=<openai.OpenAI object at 0x7ff26c4b8dd0>, root_async_client=<openai.AsyncOpenAI object at 0x7ff26c567410>, model_name='gpt-4o', model_kwargs={}, openai_api_key=SecretStr(''))"
      ]
     },
     "execution_count": 30,
     "metadata": {},
     "output_type": "execute_result"
    }
   ],
   "source": [
    "from langchain_openai import ChatOpenAI\n",
    "\n",
    "llm = ChatOpenAI(model=\"gpt-4o\")\n",
    "llm\n"
   ]
  },
  {
   "cell_type": "code",
   "execution_count": null,
   "id": "b4f54478",
   "metadata": {},
   "outputs": [
    {
     "ename": "SyntaxError",
     "evalue": "invalid syntax (551395904.py, line 3)",
     "output_type": "error",
     "traceback": [
      "  \u001b[36mCell\u001b[39m\u001b[36m \u001b[39m\u001b[32mIn[32]\u001b[39m\u001b[32m, line 3\u001b[39m\n\u001b[31m    \u001b[39m\u001b[31mllm.\u001b[39m\n        ^\n\u001b[31mSyntaxError\u001b[39m\u001b[31m:\u001b[39m invalid syntax\n"
     ]
    }
   ],
   "source": [
    "## Input and get response from llm\n",
    "query = \"What is generative AI\"\n",
    "llm.invoke(query)"
   ]
  },
  {
   "cell_type": "code",
   "execution_count": null,
   "id": "7dbed2d3",
   "metadata": {},
   "outputs": [],
   "source": []
  }
 ],
 "metadata": {
  "kernelspec": {
   "display_name": "agentic_env",
   "language": "python",
   "name": "python3"
  },
  "language_info": {
   "codemirror_mode": {
    "name": "ipython",
    "version": 3
   },
   "file_extension": ".py",
   "mimetype": "text/x-python",
   "name": "python",
   "nbconvert_exporter": "python",
   "pygments_lexer": "ipython3",
   "version": "3.12.0"
  }
 },
 "nbformat": 4,
 "nbformat_minor": 5
}
