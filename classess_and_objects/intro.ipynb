{
 "cells": [
  {
   "cell_type": "markdown",
   "id": "95fcfcff",
   "metadata": {},
   "source": [
    "# Classess and Objects\n",
    "\n",
    "    Object - oriented Programming (OOP) is a programing paradigm that uses \"objects\" to design applications and computer programs.\n",
    "    OOP Allow for modeling real -world scenarios using classess and objects."
   ]
  },
  {
   "cell_type": "code",
   "execution_count": 1,
   "id": "6ebca9f6",
   "metadata": {},
   "outputs": [],
   "source": [
    "# A class is a blue print for creating objects , Attributes , methods\n",
    "\n",
    "class Car:\n",
    "\n",
    "    ## here __init__ is constructor .\n",
    "    def __init__(self , name , age):            # here name and age is instance variable \n",
    "        self.name = name\n",
    "        self.age =age\n",
    "        "
   ]
  },
  {
   "cell_type": "code",
   "execution_count": 5,
   "id": "52054e20",
   "metadata": {},
   "outputs": [
    {
     "name": "stdout",
     "output_type": "stream",
     "text": [
      "name  mandeep\n",
      "age  29\n"
     ]
    }
   ],
   "source": [
    "# Create object\n",
    "\n",
    "car1 = Car(\"mandeep\", \"29\")\n",
    "print(\"name \", car1.name)\n",
    "print('age ', car1.age)"
   ]
  },
  {
   "cell_type": "markdown",
   "id": "68624f7e",
   "metadata": {},
   "source": [
    "# Define a class with instance method"
   ]
  },
  {
   "cell_type": "code",
   "execution_count": null,
   "id": "a0abb218",
   "metadata": {},
   "outputs": [
    {
     "name": "stdout",
     "output_type": "stream",
     "text": [
      "CTU bus not going  today ..\n"
     ]
    }
   ],
   "source": [
    "class Bus:\n",
    "\n",
    "    def __init__(self, name , time):\n",
    "        self.name = name \n",
    "        self.time = time\n",
    "        \n",
    "    # instance method\n",
    "    def latest_notification(self):\n",
    "        print(f\"{self.name} bus not going  today ..\")\n",
    "\n",
    "\n",
    "# Create object\n",
    "bus = Bus(\"CTU\" , \"04:00 AM\")\n",
    "\n",
    "res = bus.latest_notification()\n",
    "res"
   ]
  },
  {
   "cell_type": "code",
   "execution_count": null,
   "id": "8ab72583",
   "metadata": {},
   "outputs": [
    {
     "name": "stdout",
     "output_type": "stream",
     "text": [
      "balance is : 5000\n"
     ]
    }
   ],
   "source": [
    "## Modeling a bank account.\n",
    "## Define a class for bank account\n",
    "\n",
    "class BankAccount:\n",
    "    def __init__(self, owner , balance = 0):    \n",
    "        self.owner = owner\n",
    "        self.balance = balance\n",
    "\n",
    "    \n",
    "    # Create instance method\n",
    "    def deposit(self, amount):\n",
    "        self.balance = self.balance + amount\n",
    "        print(f\"{amount} is deposited . New Balance is {self.balance}\")\n",
    "\n",
    "\n",
    "    def withdraw(self , amount):\n",
    "        if amount > self.balance:\n",
    "            print('Insufficient Balance')\n",
    "\n",
    "        else:\n",
    "            self.balance -= amount\n",
    "            print(f\"{amount}  is withdrwan . New balance is {self.balance}\")\n",
    "\n",
    "    def get_balance(self):\n",
    "        print(f'Total Available balance is : {self.balance}')\n",
    "        \n",
    "\n",
    "# create a object \n",
    "account_object = BankAccount(\"Mandeep\" , 5000)\n",
    "print('balance is : {}'.format(account_object.balance))"
   ]
  },
  {
   "cell_type": "code",
   "execution_count": null,
   "id": "1002194a",
   "metadata": {},
   "outputs": [
    {
     "name": "stdout",
     "output_type": "stream",
     "text": [
      "100 is deposited . New Balance is 5100\n"
     ]
    }
   ],
   "source": [
    "## call deposit instance methods\n",
    "\n",
    "account_object.deposit(100)"
   ]
  },
  {
   "cell_type": "code",
   "execution_count": 15,
   "id": "a4a568e0",
   "metadata": {},
   "outputs": [
    {
     "name": "stdout",
     "output_type": "stream",
     "text": [
      "200  is withdrwan . New balance is 4900\n"
     ]
    }
   ],
   "source": [
    "# class withdraw instance methods\n",
    "account_object.withdraw(200)"
   ]
  },
  {
   "cell_type": "code",
   "execution_count": 16,
   "id": "378e9dd1",
   "metadata": {},
   "outputs": [
    {
     "name": "stdout",
     "output_type": "stream",
     "text": [
      "Total Available balance is : 4900\n"
     ]
    }
   ],
   "source": [
    "# call instance method to pass directly get balance\n",
    "account_object.get_balance()"
   ]
  },
  {
   "cell_type": "code",
   "execution_count": 17,
   "id": "55f98287",
   "metadata": {},
   "outputs": [
    {
     "name": "stdout",
     "output_type": "stream",
     "text": [
      "balance is : 4900\n"
     ]
    }
   ],
   "source": [
    "print('balance is : {}'.format(account_object.balance))"
   ]
  },
  {
   "cell_type": "code",
   "execution_count": null,
   "id": "abe07d99",
   "metadata": {},
   "outputs": [],
   "source": []
  }
 ],
 "metadata": {
  "kernelspec": {
   "display_name": "agentic_env",
   "language": "python",
   "name": "python3"
  },
  "language_info": {
   "codemirror_mode": {
    "name": "ipython",
    "version": 3
   },
   "file_extension": ".py",
   "mimetype": "text/x-python",
   "name": "python",
   "nbconvert_exporter": "python",
   "pygments_lexer": "ipython3",
   "version": "3.12.0"
  }
 },
 "nbformat": 4,
 "nbformat_minor": 5
}
