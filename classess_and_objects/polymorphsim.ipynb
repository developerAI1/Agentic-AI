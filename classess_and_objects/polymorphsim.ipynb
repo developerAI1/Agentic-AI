{
 "cells": [
  {
   "cell_type": "markdown",
   "id": "ae49becb",
   "metadata": {},
   "source": [
    "# Polymorphism:\n",
    "\n",
    "    Polymorphism is a core concept in Object-Oriented Programming (OOP) that allow objects of different classes to be treated as objects of a common superclass .it provides a way to perform a single action in different forms.\n",
    "\n",
    "    Polymorphism is typically achieved through method overiding and interfaces."
   ]
  },
  {
   "cell_type": "markdown",
   "id": "5350753b",
   "metadata": {},
   "source": []
  }
 ],
 "metadata": {
  "language_info": {
   "name": "python"
  }
 },
 "nbformat": 4,
 "nbformat_minor": 5
}
