{
 "cells": [
  {
   "cell_type": "markdown",
   "id": "1a3e452f",
   "metadata": {},
   "source": [
    "# Inheritance in python\n",
    "\n",
    "    Inheritance is a fundamental concept in OOP that allow a class to inherit attributes and methods from another class."
   ]
  },
  {
   "cell_type": "code",
   "execution_count": 20,
   "id": "98f08f1d",
   "metadata": {},
   "outputs": [
    {
     "name": "stdout",
     "output_type": "stream",
     "text": [
      "The person will drive the Petrol car\n"
     ]
    }
   ],
   "source": [
    "## Inheritance  (Single Inheritance)\n",
    "## Parent class\n",
    "\n",
    "class Car:\n",
    "\n",
    "    # Constructor\n",
    "    def __init__(self, windows , doors , engine_type):\n",
    "\n",
    "        # Instance variable\n",
    "        self.windows = windows\n",
    "        self.doors = doors\n",
    "        self.engine_type = engine_type\n",
    "\n",
    "    # Instance method\n",
    "    def drive(self):\n",
    "        print(f\"The person will drive the {self.engine_type} car\")\n",
    "\n",
    "\n",
    "# Create Object \n",
    "car_object = Car(4 , 5 , \"Petrol\")\n",
    "\n",
    "# call instance method by class object\n",
    "car_object.drive()\n",
    "\n"
   ]
  },
  {
   "cell_type": "markdown",
   "id": "81055e70",
   "metadata": {},
   "source": [
    "# Create child class"
   ]
  },
  {
   "cell_type": "code",
   "execution_count": 21,
   "id": "215ea904",
   "metadata": {},
   "outputs": [],
   "source": [
    "class Tesla(Car):    #Syntax child_class(parent_class)\n",
    "    \n",
    "    # constructor \n",
    "    def __init__(self, windows , doors , engine_type , is_selfdriving):\n",
    "        \n",
    "        # call attributes of parent class in child class using 'super' keyword.\n",
    "        super().__init__(windows , doors , engine_type)\n",
    "\n",
    "        # define new instance variable\n",
    "        self.is_selfdriving = is_selfdriving\n",
    "\n",
    "\n",
    "    # create a instance method\n",
    "    def selfdriving(self):\n",
    "        print(f\"Tesla supports self driving :  {self.is_selfdriving}\")"
   ]
  },
  {
   "cell_type": "code",
   "execution_count": 22,
   "id": "809c2cc7",
   "metadata": {},
   "outputs": [
    {
     "name": "stdout",
     "output_type": "stream",
     "text": [
      "Tesla supports self driving :  True\n"
     ]
    }
   ],
   "source": [
    "tesla_object = Tesla(4 , 5 , 'electric' , True)\n",
    "\n",
    "tesla_object.selfdriving()"
   ]
  },
  {
   "cell_type": "code",
   "execution_count": 23,
   "id": "d271b028",
   "metadata": {},
   "outputs": [
    {
     "name": "stdout",
     "output_type": "stream",
     "text": [
      "The person will drive the electric car\n"
     ]
    }
   ],
   "source": [
    "tesla_object.drive()"
   ]
  },
  {
   "cell_type": "markdown",
   "id": "3d289d96",
   "metadata": {},
   "source": [
    "## Multiple Inheritance"
   ]
  },
  {
   "cell_type": "code",
   "execution_count": 30,
   "id": "5abad929",
   "metadata": {},
   "outputs": [],
   "source": [
    "# Multiple Inheritance\n",
    "# when a class Inherits  from more than onebase class.\n",
    "\n",
    "# Base class 1\n",
    "class Animal:\n",
    "\n",
    "    def __init__(self, name):\n",
    "        self.name =name\n",
    "\n",
    "    def speak_parent(self):\n",
    "        print(\"Subclass must implemented this method.\")"
   ]
  },
  {
   "cell_type": "code",
   "execution_count": 31,
   "id": "a47ba25a",
   "metadata": {},
   "outputs": [],
   "source": [
    "# Base class 2\n",
    "\n",
    "class  Pet:\n",
    "\n",
    "    def __init__(self , owner):\n",
    "        self.owner = owner"
   ]
  },
  {
   "cell_type": "code",
   "execution_count": 32,
   "id": "ba29184f",
   "metadata": {},
   "outputs": [],
   "source": [
    "# Derived class \n",
    "\n",
    "class Dog (Animal , Pet):\n",
    "\n",
    "    def __init__(self, name, owner):\n",
    "        \n",
    "        # calling multiple classes parameters \n",
    "        Animal.__init__(self , name)\n",
    "        Pet.__init__(self , owner)\n",
    "\n",
    "    def speak(self):\n",
    "        return f\"{self.name} say woof \""
   ]
  },
  {
   "cell_type": "code",
   "execution_count": 38,
   "id": "5c399629",
   "metadata": {},
   "outputs": [
    {
     "data": {
      "text/plain": [
       "'Buddy'"
      ]
     },
     "execution_count": 38,
     "metadata": {},
     "output_type": "execute_result"
    }
   ],
   "source": [
    "dog_object = Dog(\"Buddy\", 'Mandeep')\n",
    "dog_object.name"
   ]
  },
  {
   "cell_type": "code",
   "execution_count": 40,
   "id": "4ec3bd86",
   "metadata": {},
   "outputs": [
    {
     "name": "stdout",
     "output_type": "stream",
     "text": [
      "Dog owner :  Mandeep\n",
      "Dog name :  Buddy\n"
     ]
    }
   ],
   "source": [
    "dog_object.speak()\n",
    "\n",
    "print('Dog owner : ', dog_object.owner)\n",
    "print('Dog name : ', dog_object.name)"
   ]
  },
  {
   "cell_type": "code",
   "execution_count": null,
   "id": "d8450665",
   "metadata": {},
   "outputs": [],
   "source": []
  }
 ],
 "metadata": {
  "kernelspec": {
   "display_name": "agentic_env",
   "language": "python",
   "name": "python3"
  },
  "language_info": {
   "codemirror_mode": {
    "name": "ipython",
    "version": 3
   },
   "file_extension": ".py",
   "mimetype": "text/x-python",
   "name": "python",
   "nbconvert_exporter": "python",
   "pygments_lexer": "ipython3",
   "version": "3.12.0"
  }
 },
 "nbformat": 4,
 "nbformat_minor": 5
}
