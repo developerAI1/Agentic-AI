{
 "cells": [
  {
   "cell_type": "markdown",
   "id": "1a3e452f",
   "metadata": {},
   "source": [
    "# Inheritance in python\n",
    "\n",
    "    Inheritance is a fundamental concept in OOP that allow a class to inherit attributes and methods from another class."
   ]
  },
  {
   "cell_type": "code",
   "execution_count": null,
   "id": "98f08f1d",
   "metadata": {},
   "outputs": [
    {
     "name": "stdout",
     "output_type": "stream",
     "text": [
      "The person will drive the Petrol car\n"
     ]
    }
   ],
   "source": [
    "## Inheritance  (Single Inheritance)\n",
    "## Parent class\n",
    "\n",
    "class Car:\n",
    "\n",
    "    # Constructor\n",
    "    def __init__(self, windows , doors , engine_type):\n",
    "\n",
    "        # Instance variable\n",
    "        self.windows = windows\n",
    "        self.doors = doors\n",
    "        self.engine_type = engine_type\n",
    "\n",
    "    # Instance method\n",
    "    def drive(self):\n",
    "        print(f\"The person will drive the {self.engine_type} car\")\n",
    "\n",
    "\n",
    "# Create Object \n",
    "car_object = Car(4 , 5 , \"Petrol\")\n",
    "\n",
    "# call instance method by class object\n",
    "car_object.drive()\n",
    "\n"
   ]
  },
  {
   "cell_type": "markdown",
   "id": "81055e70",
   "metadata": {},
   "source": [
    "# Create child class"
   ]
  },
  {
   "cell_type": "code",
   "execution_count": 4,
   "id": "215ea904",
   "metadata": {},
   "outputs": [],
   "source": [
    "class Tesla(Car):    #Syntax child_class(parent_class)\n",
    "    \n",
    "    # constructor \n",
    "    def __init__(self, windows , doors , engine_type , is_selfdriving):\n",
    "        \n",
    "        # call attributes of parent class in child class using 'super' keyword.\n",
    "        super().__init__(windows , doors , engine_type)\n",
    "\n",
    "        # define new instance variable\n",
    "        self.is_selfdriving = is_selfdriving\n",
    "\n",
    "\n",
    "    # create a instance method\n",
    "    def selfdriving(self):\n",
    "        print(f\"Tesla supports self driving :  {self.is_selfdriving}\")"
   ]
  },
  {
   "cell_type": "code",
   "execution_count": 7,
   "id": "809c2cc7",
   "metadata": {},
   "outputs": [
    {
     "name": "stdout",
     "output_type": "stream",
     "text": [
      "Tesla supports self driving :  True\n"
     ]
    }
   ],
   "source": [
    "tesla_object = Tesla(4 , 5 , 'electric' , True)\n",
    "\n",
    "tesla_object.selfdriving()"
   ]
  },
  {
   "cell_type": "code",
   "execution_count": 8,
   "id": "d271b028",
   "metadata": {},
   "outputs": [
    {
     "name": "stdout",
     "output_type": "stream",
     "text": [
      "The person will drive the electric car\n"
     ]
    }
   ],
   "source": [
    "tesla_object.drive()"
   ]
  },
  {
   "cell_type": "markdown",
   "id": "3d289d96",
   "metadata": {},
   "source": [
    "## Multiple Inheritance"
   ]
  },
  {
   "cell_type": "code",
   "execution_count": null,
   "id": "5abad929",
   "metadata": {},
   "outputs": [],
   "source": [
    "# Multiple Inheritance\n",
    "# when a class Inherits  from more than onebase class.\n",
    "\n",
    "# Base class 1\n",
    "class Animal:\n",
    "\n",
    "    def __init__(self, name):\n",
    "        self.name =name\n",
    "\n",
    "    def speak(self):\n",
    "        print(\"Subclass must implemented this method.\")"
   ]
  },
  {
   "cell_type": "code",
   "execution_count": 10,
   "id": "a47ba25a",
   "metadata": {},
   "outputs": [],
   "source": [
    "# Base class 2\n",
    "\n",
    "class  Pet:\n",
    "\n",
    "    def __init__(self , owner):\n",
    "        self.owner = owner"
   ]
  },
  {
   "cell_type": "code",
   "execution_count": null,
   "id": "ba29184f",
   "metadata": {},
   "outputs": [
    {
     "ename": "NameError",
     "evalue": "name 'Animal' is not defined",
     "output_type": "error",
     "traceback": [
      "\u001b[31m---------------------------------------------------------------------------\u001b[39m",
      "\u001b[31mNameError\u001b[39m                                 Traceback (most recent call last)",
      "\u001b[36mCell\u001b[39m\u001b[36m \u001b[39m\u001b[32mIn[11]\u001b[39m\u001b[32m, line 3\u001b[39m\n\u001b[32m      1\u001b[39m \u001b[38;5;66;03m# Derived class \u001b[39;00m\n\u001b[32m----> \u001b[39m\u001b[32m3\u001b[39m \u001b[38;5;28;01mclass\u001b[39;00m\u001b[38;5;250m \u001b[39m\u001b[34;01mDog\u001b[39;00m(\u001b[43mAnimal\u001b[49m , Pet):\n\u001b[32m      5\u001b[39m     \u001b[38;5;28;01mdef\u001b[39;00m\u001b[38;5;250m \u001b[39m\u001b[34m__init__\u001b[39m(\u001b[38;5;28mself\u001b[39m, name, owner):\n\u001b[32m      6\u001b[39m \n\u001b[32m      7\u001b[39m         \u001b[38;5;66;03m# calling multiple classes parameters \u001b[39;00m\n\u001b[32m      8\u001b[39m         Animal.\u001b[34m__init__\u001b[39m(\u001b[38;5;28mself\u001b[39m , name)\n",
      "\u001b[31mNameError\u001b[39m: name 'Animal' is not defined"
     ]
    }
   ],
   "source": [
    "# Derived class \n",
    "\n",
    "class Dog(Animal , Pet):\n",
    "\n",
    "    def __init__(self, name, owner):\n",
    "        \n",
    "        # calling multiple classes parameters \n",
    "        Animal.__init__(self , name)\n",
    "        Pet.__init__(self , owner)\n",
    "\n",
    "    def speak(self):\n",
    "        return f\"{self.name} say woof \""
   ]
  },
  {
   "cell_type": "code",
   "execution_count": null,
   "id": "5c399629",
   "metadata": {},
   "outputs": [],
   "source": []
  }
 ],
 "metadata": {
  "kernelspec": {
   "display_name": "agentic_env",
   "language": "python",
   "name": "python3"
  },
  "language_info": {
   "codemirror_mode": {
    "name": "ipython",
    "version": 3
   },
   "file_extension": ".py",
   "mimetype": "text/x-python",
   "name": "python",
   "nbconvert_exporter": "python",
   "pygments_lexer": "ipython3",
   "version": "3.12.0"
  }
 },
 "nbformat": 4,
 "nbformat_minor": 5
}
